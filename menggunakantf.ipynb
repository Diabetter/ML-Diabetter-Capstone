{
 "cells": [
  {
   "cell_type": "code",
   "execution_count": 13,
   "metadata": {},
   "outputs": [],
   "source": [
    "import pandas as pd\n",
    "import numpy as np\n",
    "import random\n",
    "import tensorflow as tf\n",
    "from sklearn.preprocessing import StandardScaler\n"
   ]
  },
  {
   "cell_type": "code",
   "execution_count": 14,
   "metadata": {},
   "outputs": [],
   "source": [
    "berat_badan = 60\n",
    "tinggi = 176\n",
    "usia = 21\n",
    "jenis_kelamin = 'pria'\n",
    "aktivitas = 'sedang'\n",
    "filter = 2\n",
    "\n",
    "def hitung_akg_diabetes(berat_badan, tinggi, usia, jenis_kelamin):\n",
    "    tinggi_m = tinggi / 100\n",
    "    imt = berat_badan / (tinggi_m ** 2)\n",
    "    \n",
    "    bbi = (tinggi - 100) - 0.1 * (tinggi - 100)\n",
    "    \n",
    "    if jenis_kelamin.lower() == 'pria':\n",
    "        kalori_basal = bbi * 30\n",
    "    elif jenis_kelamin.lower() == 'wanita':\n",
    "        kalori_basal = bbi * 25\n",
    "\n",
    "    if 60 <= usia <= 69:\n",
    "        kalori_basal -= 0.1 * kalori_basal\n",
    "    elif 40 <= usia <= 59:\n",
    "        kalori_basal -= 0.05 * kalori_basal\n",
    "    elif usia >= 70:\n",
    "        kalori_basal -= 0.2 * kalori_basal\n",
    "    \n",
    "    if aktivitas.lower() == 'ringan':\n",
    "        kalori_basal += kalori_basal * 0.15\n",
    "    elif aktivitas.lower() == 'sedang':\n",
    "        kalori_basal += kalori_basal * 0.25\n",
    "    elif aktivitas.lower() == 'berat':\n",
    "        kalori_basal += kalori_basal * 0.45\n",
    "    \n",
    "    protein_kalori = 0.2 * kalori_basal\n",
    "    lemak_kalori = 0.25 * kalori_basal\n",
    "    karbohidrat_kalori = 0.5 * kalori_basal\n",
    "    \n",
    "    protein_gram = protein_kalori / 4\n",
    "    lemak_gram = lemak_kalori / 9\n",
    "    karbohidrat_gram = karbohidrat_kalori / 4\n",
    "    \n",
    "    return {\n",
    "        \"imt\": imt,\n",
    "        \"bbi\": bbi,\n",
    "        \"kalori_basal\": kalori_basal,\n",
    "        \"protein_gram\": protein_gram,\n",
    "        \"lemak_gram\": lemak_gram,\n",
    "        \"karbohidrat_gram\": karbohidrat_gram\n",
    "    }\n",
    "\n",
    "kebutuhan_gizi = hitung_akg_diabetes(berat_badan, tinggi, usia, jenis_kelamin)"
   ]
  },
  {
   "cell_type": "code",
   "execution_count": 15,
   "metadata": {},
   "outputs": [
    {
     "name": "stderr",
     "output_type": "stream",
     "text": [
      "C:\\Users\\muamm\\AppData\\Local\\Temp\\ipykernel_38436\\2117910527.py:15: SettingWithCopyWarning: \n",
      "A value is trying to be set on a copy of a slice from a DataFrame.\n",
      "Try using .loc[row_indexer,col_indexer] = value instead\n",
      "\n",
      "See the caveats in the documentation: https://pandas.pydata.org/pandas-docs/stable/user_guide/indexing.html#returning-a-view-versus-a-copy\n",
      "  df[col] = df[col].astype(str).str.replace(',', '.').astype(float)\n"
     ]
    }
   ],
   "source": [
    "# Membaca data makanan\n",
    "df_filtered = pd.read_csv('fix_dataset.csv')\n",
    "\n",
    "if filter == 4:\n",
    "    df = df_filtered[df_filtered['Rating'] >= 4]\n",
    "elif filter == 3:\n",
    "    df = df_filtered[df_filtered['Rating'] >= 3]\n",
    "elif filter == 2:\n",
    "    df = df_filtered[df_filtered['Rating'] >= 2]\n",
    "elif filter == 1:\n",
    "    df = df_filtered[df_filtered['Rating'] >= 1]\n",
    "\n",
    "# Membersihkan data\n",
    "for col in ['Kalori', 'Karbohidrat', 'Protein', 'Lemak', 'Rating']:\n",
    "    df[col] = df[col].astype(str).str.replace(',', '.').astype(float)\n",
    "\n",
    "X = df[['Kalori', 'Karbohidrat', 'Protein', 'Lemak']].values\n",
    "y = df['Rating'].values\n",
    "\n",
    "# Standarisasi data sebelum clustering\n",
    "scaler = StandardScaler()\n",
    "X_scaled = scaler.fit_transform(X)"
   ]
  },
  {
   "cell_type": "code",
   "execution_count": 16,
   "metadata": {},
   "outputs": [
    {
     "name": "stderr",
     "output_type": "stream",
     "text": [
      "C:\\Users\\muamm\\AppData\\Roaming\\Python\\Python39\\site-packages\\keras\\src\\layers\\core\\input_layer.py:25: UserWarning: Argument `input_shape` is deprecated. Use `shape` instead.\n",
      "  warnings.warn(\n"
     ]
    },
    {
     "name": "stdout",
     "output_type": "stream",
     "text": [
      "WARNING:tensorflow:5 out of the last 15 calls to <function TensorFlowTrainer.make_predict_function.<locals>.one_step_on_data_distributed at 0x000001CA0D51D5E0> triggered tf.function retracing. Tracing is expensive and the excessive number of tracings could be due to (1) creating @tf.function repeatedly in a loop, (2) passing tensors with different shapes, (3) passing Python objects instead of tensors. For (1), please define your @tf.function outside of the loop. For (2), @tf.function has reduce_retracing=True option that can avoid unnecessary retracing. For (3), please refer to https://www.tensorflow.org/guide/function#controlling_retracing and https://www.tensorflow.org/api_docs/python/tf/function for  more details.\n",
      "\u001b[1m7/7\u001b[0m \u001b[32m━━━━━━━━━━━━━━━━━━━━\u001b[0m\u001b[37m\u001b[0m \u001b[1m0s\u001b[0m 5ms/step \n"
     ]
    },
    {
     "name": "stderr",
     "output_type": "stream",
     "text": [
      "C:\\Users\\muamm\\AppData\\Local\\Temp\\ipykernel_38436\\289469275.py:33: SettingWithCopyWarning: \n",
      "A value is trying to be set on a copy of a slice from a DataFrame.\n",
      "Try using .loc[row_indexer,col_indexer] = value instead\n",
      "\n",
      "See the caveats in the documentation: https://pandas.pydata.org/pandas-docs/stable/user_guide/indexing.html#returning-a-view-versus-a-copy\n",
      "  df['Cluster'] = cluster_labels\n"
     ]
    }
   ],
   "source": [
    "# Mengelompokkan makanan menggunakan model neural network dengan TensorFlow\n",
    "class NNClustering:\n",
    "    def __init__(self, n_clusters, input_dim, learning_rate=0.01, epochs=100):\n",
    "        self.n_clusters = n_clusters\n",
    "        self.input_dim = input_dim\n",
    "        self.learning_rate = learning_rate\n",
    "        self.epochs = epochs\n",
    "        self.model = self.build_model()\n",
    "    \n",
    "    def build_model(self):\n",
    "        model = tf.keras.Sequential([\n",
    "            tf.keras.layers.InputLayer(input_shape=(self.input_dim,)),\n",
    "            tf.keras.layers.Dense(128, activation='relu'),\n",
    "            tf.keras.layers.Dense(self.n_clusters, activation='softmax')\n",
    "        ])\n",
    "        model.compile(optimizer=tf.keras.optimizers.Adam(self.learning_rate), \n",
    "                      loss='sparse_categorical_crossentropy', \n",
    "                      metrics=['accuracy'])\n",
    "        return model\n",
    "    \n",
    "    def fit(self, X, y):\n",
    "        self.model.fit(X, y, epochs=self.epochs, verbose=0)\n",
    "    \n",
    "    def predict(self, X):\n",
    "        return np.argmax(self.model.predict(X), axis=1)\n",
    "\n",
    "n_clusters = 20\n",
    "random_labels = np.random.randint(0, n_clusters, X_scaled.shape[0])\n",
    "\n",
    "nn_clustering = NNClustering(n_clusters=n_clusters, input_dim=X_scaled.shape[1])\n",
    "nn_clustering.fit(X_scaled, random_labels)\n",
    "cluster_labels = nn_clustering.predict(X_scaled)\n",
    "df['Cluster'] = cluster_labels"
   ]
  },
  {
   "cell_type": "code",
   "execution_count": 17,
   "metadata": {},
   "outputs": [],
   "source": [
    "def calculate_nutrition_distance(features, target_features):\n",
    "    return np.sqrt(np.sum((features - target_features) ** 2))\n",
    "\n",
    "def fitness_function(combination, target_features, valid_X, cluster_labels, ratings):\n",
    "    combined_features = np.sum(valid_X[list(combination)], axis=0)\n",
    "    distance = calculate_nutrition_distance(combined_features, target_features)\n",
    "    diversity_score = len(set(cluster_labels[list(combination)])) \n",
    "    average_rating = np.mean(ratings[list(combination)])  \n",
    "    return diversity_score * average_rating / (distance + 1e-6)\n",
    "\n",
    "def recommend_meals_ga(target_features, valid_X, cluster_labels, ratings, population_size=100, num_generations=100):\n",
    "    num_meals = len(valid_X)\n",
    "    sorted_indices = np.argsort(ratings)[::-1]\n",
    "    sorted_valid_X = valid_X[sorted_indices]\n",
    "    sorted_cluster_labels = cluster_labels[sorted_indices]\n",
    "    sorted_ratings = ratings[sorted_indices]\n",
    "\n",
    "    population = [random.sample(range(num_meals), 3) for _ in range(population_size)]\n",
    "\n",
    "    for generation in range(num_generations):\n",
    "        fitness_scores = [fitness_function(individual, target_features, sorted_valid_X, sorted_cluster_labels, sorted_ratings) for individual in population]\n",
    "\n",
    "        best_individual = population[np.argmax(fitness_scores)]\n",
    "        best_fitness = max(fitness_scores)\n",
    "\n",
    "        if best_fitness > 0.99:\n",
    "            break\n",
    "\n",
    "        new_population = []\n",
    "        for _ in range(population_size):\n",
    "            if random.random() < 0.2:\n",
    "                new_individual = list(random.sample(range(num_meals), 3))\n",
    "            else:\n",
    "                parent1, parent2 = random.sample(population, 2)\n",
    "                crossover_point = random.randint(0, 2)\n",
    "                new_individual = parent1[:crossover_point] + parent2[crossover_point:]\n",
    "            new_population.append(new_individual)\n",
    "        population = new_population\n",
    "\n",
    "    best_combination = best_individual\n",
    "    recommended_meals = sorted_valid_X[list(best_combination)]\n",
    "    recommended_ratings = sorted_ratings[list(best_combination)]\n",
    "    return best_combination, recommended_meals, recommended_ratings"
   ]
  },
  {
   "cell_type": "code",
   "execution_count": 18,
   "metadata": {},
   "outputs": [
    {
     "name": "stdout",
     "output_type": "stream",
     "text": [
      "Total Kalori: 2565.0 kalori per hari\n",
      "Kebutuhan Karbohidrat: 320.625 gram per hari\n",
      "Kebutuhan Protein: 128.25 gram per hari\n",
      "Kebutuhan Lemak: 71.25 gram per hari \n",
      "\n",
      "Rekomendasi makanan dan kandungan gizinya:\n",
      "Lemon  - Kalori: 68.0, Karbohidrat: 12.4, Protein: 1.0, Lemak: 1.6, Rating: 4.82\n",
      "Brongkos - Kalori: 282.0, Karbohidrat: 25.2, Protein: 30.6, Lemak: 6.6, Rating: 4.67\n",
      "Jagung Sayur (tumis) - Kalori: 297.8, Karbohidrat: 40.2, Protein: 20.8, Lemak: 20.8, Rating: 4.01\n",
      "\n",
      "Total Kalori dari makanan yang direkomendasikan: 2580.0\n",
      "Total Karbohidrat dari makanan yang direkomendasikan: 216.6\n",
      "Total Protein dari makanan yang direkomendasikan: 110.4\n",
      "Total Lemak dari makanan yang direkomendasikan: 141.0\n"
     ]
    }
   ],
   "source": [
    "target_features = np.array([kebutuhan_gizi[\"kalori_basal\"], kebutuhan_gizi[\"karbohidrat_gram\"], kebutuhan_gizi[\"protein_gram\"], kebutuhan_gizi[\"lemak_gram\"]])\n",
    "\n",
    "valid_indices = np.where(np.any(X != 0, axis=1))[0] \n",
    "valid_data = df.iloc[valid_indices]\n",
    "valid_X = valid_data[['Kalori', 'Karbohidrat', 'Protein', 'Lemak']].values\n",
    "ratings = valid_data['Rating'].values\n",
    "cluster_labels = valid_data['Cluster'].values\n",
    "\n",
    "best_combination, recommended_meals, recommended_ratings = recommend_meals_ga(target_features, valid_X, cluster_labels, ratings)\n",
    "\n",
    "kalori_basal = np.sum(recommended_meals[:, 0])\n",
    "total_karbohidrat = np.sum(recommended_meals[:, 1])\n",
    "total_protein = np.sum(recommended_meals[:, 2])\n",
    "total_lemak = np.sum(recommended_meals[:, 3])\n",
    "\n",
    "print(\"Total Kalori:\", kebutuhan_gizi[\"kalori_basal\"], \"kalori per hari\")\n",
    "print(\"Kebutuhan Karbohidrat:\", kebutuhan_gizi[\"karbohidrat_gram\"], \"gram per hari\")\n",
    "print(\"Kebutuhan Protein:\", kebutuhan_gizi[\"protein_gram\"], \"gram per hari\")\n",
    "print(\"Kebutuhan Lemak:\", kebutuhan_gizi[\"lemak_gram\"], \"gram per hari \\n\")\n",
    "print(\"Rekomendasi makanan dan kandungan gizinya:\")\n",
    "\n",
    "for idx in best_combination:\n",
    "    meal = valid_data.iloc[idx]\n",
    "    print(f\"{meal['Nama']} - Kalori: {meal['Kalori']}, Karbohidrat: {meal['Karbohidrat']}, Protein: {meal['Protein']}, Lemak: {meal['Lemak']}, Rating: {meal['Rating']}\")\n",
    "\n",
    "print(\"\\nTotal Kalori dari makanan yang direkomendasikan:\", kalori_basal)\n",
    "print(\"Total Karbohidrat dari makanan yang direkomendasikan:\", total_karbohidrat)\n",
    "print(\"Total Protein dari makanan yang direkomendasikan:\", total_protein)\n",
    "print(\"Total Lemak dari makanan yang direkomendasikan:\", total_lemak)"
   ]
  }
 ],
 "metadata": {
  "kernelspec": {
   "display_name": "pds",
   "language": "python",
   "name": "python3"
  },
  "language_info": {
   "codemirror_mode": {
    "name": "ipython",
    "version": 3
   },
   "file_extension": ".py",
   "mimetype": "text/x-python",
   "name": "python",
   "nbconvert_exporter": "python",
   "pygments_lexer": "ipython3",
   "version": "3.9.16"
  }
 },
 "nbformat": 4,
 "nbformat_minor": 2
}
