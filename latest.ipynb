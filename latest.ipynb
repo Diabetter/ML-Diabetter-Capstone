{
 "cells": [
  {
   "cell_type": "code",
   "metadata": {
    "ExecuteTime": {
     "end_time": "2024-06-08T14:15:57.109044Z",
     "start_time": "2024-06-08T14:15:57.106193Z"
    }
   },
   "source": [
    "import pandas as pd\n",
    "import numpy as np\n",
    "import random\n",
    "from itertools import combinations\n",
    "from sklearn.cluster import KMeans"
   ],
   "outputs": [],
   "execution_count": 3
  },
  {
   "cell_type": "code",
   "metadata": {
    "ExecuteTime": {
     "end_time": "2024-06-08T14:15:57.852265Z",
     "start_time": "2024-06-08T14:15:57.844871Z"
    }
   },
   "source": [
    "berat_badan = 60\n",
    "tinggi = 176\n",
    "usia = 21\n",
    "jenis_kelamin = 'pria'\n",
    "aktivitas = 'sedang'\n",
    "filter = 4\n",
    "\n",
    "def hitung_akg_diabetes(berat_badan, tinggi, usia, jenis_kelamin):\n",
    "    # Menghitung IMT\n",
    "    tinggi_m = tinggi / 100\n",
    "    imt = berat_badan / (tinggi_m ** 2)\n",
    "    \n",
    "    # Menghitung BBI (Berat Badan Ideal)\n",
    "    bbi = (tinggi - 100) - 0.1 * (tinggi - 100)\n",
    "    \n",
    "    # Menghitung Kalori Basal\n",
    "    if jenis_kelamin.lower() == 'pria':\n",
    "        kalori_basal = bbi * 30\n",
    "    elif jenis_kelamin.lower() == 'wanita':\n",
    "        kalori_basal = bbi * 25\n",
    "\n",
    "    # Koreksi Usia\n",
    "    if 60 <= usia <= 69:\n",
    "        kalori_basal -= 0.1 * kalori_basal\n",
    "    elif 40 <= usia <= 59:\n",
    "        kalori_basal -= 0.05 * kalori_basal\n",
    "    elif usia >= 70:\n",
    "        kalori_basal -= 0.2 * kalori_basal\n",
    "    \n",
    "    # Koreksi Aktivitas\n",
    "    if aktivitas.lower() == 'ringan':\n",
    "        kalori_basal += kalori_basal * 0.15\n",
    "    elif aktivitas.lower() == 'sedang':\n",
    "        kalori_basal += kalori_basal * 0.25\n",
    "    elif aktivitas.lower() == 'berat':\n",
    "        kalori_basal += kalori_basal * 0.45\n",
    "    \n",
    "    # Menghitung kebutuhan nutrisi\n",
    "    protein_kalori = 0.2 * kalori_basal\n",
    "    lemak_kalori = 0.25 * kalori_basal\n",
    "    karbohidrat_kalori = 0.5 * kalori_basal\n",
    "    \n",
    "    protein_gram = protein_kalori / 4\n",
    "    lemak_gram = lemak_kalori / 9\n",
    "    karbohidrat_gram = karbohidrat_kalori / 4\n",
    "    \n",
    "    return {\n",
    "        \"imt\": imt,\n",
    "        \"bbi\": bbi,\n",
    "        \"kalori_basal\": kalori_basal,\n",
    "        \"protein_gram\": protein_gram,\n",
    "        \"lemak_gram\": lemak_gram,\n",
    "        \"karbohidrat_gram\": karbohidrat_gram\n",
    "    }\n",
    "kebutuhan_gizi = hitung_akg_diabetes(berat_badan, tinggi, usia, jenis_kelamin)"
   ],
   "outputs": [],
   "execution_count": 4
  },
  {
   "cell_type": "code",
   "metadata": {
    "ExecuteTime": {
     "end_time": "2024-06-08T14:15:58.501544Z",
     "start_time": "2024-06-08T14:15:58.449932Z"
    }
   },
   "source": [
    "# Membaca data makanan\n",
    "df_filtered = pd.read_csv('kopi1.csv')\n",
    "\n",
    "if filter == 4:\n",
    "    df = df_filtered[df_filtered['Rating'] >= 4]\n",
    "elif filter == 3:\n",
    "    df = df_filtered[df_filtered['Rating'] >= 3]\n",
    "elif filter == 2:\n",
    "    df = df_filtered[df_filtered['Rating'] >= 2]\n",
    "elif filter == 1:\n",
    "    df = df_filtered[df_filtered['Rating'] >= 1]\n",
    "\n",
    "# Membersihkan data\n",
    "for col in ['Kalori', 'Karbohidrat', 'Protein', 'Lemak', 'Rating']:\n",
    "    df[col] = df[col].astype(str).str.replace(',', '.').astype(float)\n",
    "\n",
    "X = df[['Kalori', 'Karbohidrat', 'Protein', 'Lemak']].values\n",
    "y = df['Rating'].values\n",
    "\n",
    "# Mengelompokkan makanan menggunakan KMeans\n",
    "kmeans = KMeans(n_clusters=5, random_state=42) \n",
    "df['Cluster'] = kmeans.fit_predict(X)"
   ],
   "outputs": [
    {
     "name": "stderr",
     "output_type": "stream",
     "text": [
      "/tmp/ipykernel_55743/3293674266.py:15: SettingWithCopyWarning: \n",
      "A value is trying to be set on a copy of a slice from a DataFrame.\n",
      "Try using .loc[row_indexer,col_indexer] = value instead\n",
      "\n",
      "See the caveats in the documentation: https://pandas.pydata.org/pandas-docs/stable/user_guide/indexing.html#returning-a-view-versus-a-copy\n",
      "  df[col] = df[col].astype(str).str.replace(',', '.').astype(float)\n",
      "/tmp/ipykernel_55743/3293674266.py:15: SettingWithCopyWarning: \n",
      "A value is trying to be set on a copy of a slice from a DataFrame.\n",
      "Try using .loc[row_indexer,col_indexer] = value instead\n",
      "\n",
      "See the caveats in the documentation: https://pandas.pydata.org/pandas-docs/stable/user_guide/indexing.html#returning-a-view-versus-a-copy\n",
      "  df[col] = df[col].astype(str).str.replace(',', '.').astype(float)\n",
      "/tmp/ipykernel_55743/3293674266.py:15: SettingWithCopyWarning: \n",
      "A value is trying to be set on a copy of a slice from a DataFrame.\n",
      "Try using .loc[row_indexer,col_indexer] = value instead\n",
      "\n",
      "See the caveats in the documentation: https://pandas.pydata.org/pandas-docs/stable/user_guide/indexing.html#returning-a-view-versus-a-copy\n",
      "  df[col] = df[col].astype(str).str.replace(',', '.').astype(float)\n",
      "/tmp/ipykernel_55743/3293674266.py:15: SettingWithCopyWarning: \n",
      "A value is trying to be set on a copy of a slice from a DataFrame.\n",
      "Try using .loc[row_indexer,col_indexer] = value instead\n",
      "\n",
      "See the caveats in the documentation: https://pandas.pydata.org/pandas-docs/stable/user_guide/indexing.html#returning-a-view-versus-a-copy\n",
      "  df[col] = df[col].astype(str).str.replace(',', '.').astype(float)\n",
      "/tmp/ipykernel_55743/3293674266.py:15: SettingWithCopyWarning: \n",
      "A value is trying to be set on a copy of a slice from a DataFrame.\n",
      "Try using .loc[row_indexer,col_indexer] = value instead\n",
      "\n",
      "See the caveats in the documentation: https://pandas.pydata.org/pandas-docs/stable/user_guide/indexing.html#returning-a-view-versus-a-copy\n",
      "  df[col] = df[col].astype(str).str.replace(',', '.').astype(float)\n",
      "/tmp/ipykernel_55743/3293674266.py:22: SettingWithCopyWarning: \n",
      "A value is trying to be set on a copy of a slice from a DataFrame.\n",
      "Try using .loc[row_indexer,col_indexer] = value instead\n",
      "\n",
      "See the caveats in the documentation: https://pandas.pydata.org/pandas-docs/stable/user_guide/indexing.html#returning-a-view-versus-a-copy\n",
      "  df['Cluster'] = kmeans.fit_predict(X)\n"
     ]
    }
   ],
   "execution_count": 5
  },
  {
   "cell_type": "code",
   "metadata": {
    "ExecuteTime": {
     "end_time": "2024-06-08T14:16:06.749779Z",
     "start_time": "2024-06-08T14:16:06.476016Z"
    }
   },
   "source": [
    "def calculate_nutrition_distance(features, target_features):\n",
    "    return np.sqrt(np.sum((features - target_features) ** 2))\n",
    "\n",
    "def fitness_function(combination, target_features, valid_X, cluster_labels, ratings):\n",
    "    combined_features = np.sum(valid_X[list(combination)], axis=0)\n",
    "    distance = calculate_nutrition_distance(combined_features, target_features)\n",
    "    diversity_score = len(set(cluster_labels[list(combination)])) \n",
    "    average_rating = np.mean(ratings[list(combination)])  # Menghitung rata-rata rating dari kombinasi makanan\n",
    "    return diversity_score * average_rating / (distance + 1e-6)\n",
    "\n",
    "# Fungsi untuk merekomendasikan makanan menggunakan algoritma genetika\n",
    "def recommend_meals_ga(target_features, valid_X, cluster_labels, ratings, population_size=100, num_generations=100):\n",
    "    num_meals = len(valid_X)\n",
    "\n",
    "    # Mengurutkan makanan berdasarkan rating dari yang tertinggi\n",
    "    sorted_indices = np.argsort(ratings)[::-1]\n",
    "    sorted_valid_X = valid_X[sorted_indices]\n",
    "    sorted_cluster_labels = cluster_labels[sorted_indices]\n",
    "    sorted_ratings = ratings[sorted_indices]\n",
    "\n",
    "    population = [random.sample(range(num_meals), 3) for _ in range(population_size)]\n",
    "\n",
    "    for generation in range(num_generations):\n",
    "        fitness_scores = [fitness_function(individual, target_features, sorted_valid_X, sorted_cluster_labels, sorted_ratings) for individual in population]\n",
    "\n",
    "        best_individual = population[np.argmax(fitness_scores)]\n",
    "        best_fitness = max(fitness_scores)\n",
    "\n",
    "        if best_fitness > 0.99:\n",
    "            break\n",
    "\n",
    "        new_population = []\n",
    "        for _ in range(population_size):\n",
    "            if random.random() < 0.2:\n",
    "                new_individual = list(random.sample(range(num_meals), 3))\n",
    "            else:\n",
    "                parent1, parent2 = random.sample(population, 2)\n",
    "                crossover_point = random.randint(0, 2)\n",
    "                new_individual = parent1[:crossover_point] + parent2[crossover_point:]\n",
    "            new_population.append(new_individual)\n",
    "        population = new_population\n",
    "\n",
    "    best_combination = best_individual\n",
    "    recommended_meals = sorted_valid_X[list(best_combination)]\n",
    "    recommended_ratings = sorted_ratings[list(best_combination)]\n",
    "    return best_combination, recommended_meals, recommended_ratings\n",
    "\n",
    "# Mengambil rating dari data yang valid\n",
    "target_features = np.array([kebutuhan_gizi[\"kalori_basal\"], kebutuhan_gizi[\"karbohidrat_gram\"], kebutuhan_gizi[\"protein_gram\"], kebutuhan_gizi[\"lemak_gram\"]])\n",
    "\n",
    "valid_indices = np.where(np.any(X != 0, axis=1))[0] \n",
    "valid_data = df.iloc[valid_indices]\n",
    "valid_X = valid_data[['Kalori', 'Karbohidrat', 'Protein', 'Lemak']].values\n",
    "ratings = valid_data['Rating'].values\n",
    "cluster_labels = valid_data['Cluster'].values\n",
    "\n",
    "best_combination, recommended_meals, recommended_ratings = recommend_meals_ga(target_features, valid_X, cluster_labels, ratings)"
   ],
   "outputs": [],
   "execution_count": 6
  },
  {
   "cell_type": "code",
   "metadata": {
    "ExecuteTime": {
     "end_time": "2024-06-08T14:16:07.120680Z",
     "start_time": "2024-06-08T14:16:07.114452Z"
    }
   },
   "source": [
    "# Menghitung total kalori, karbohidrat, protein, dan lemak dari makanan yang direkomendasikan\n",
    "kalori_basal = np.sum(recommended_meals[:, 0])\n",
    "total_karbohidrat = np.sum(recommended_meals[:, 1])\n",
    "total_protein = np.sum(recommended_meals[:, 2])\n",
    "total_lemak = np.sum(recommended_meals[:, 3])\n",
    "\n",
    "# Mencetak hasil\n",
    "print(\"Total Kalori:\", kebutuhan_gizi[\"kalori_basal\"], \"kalori per hari\")\n",
    "print(\"Kebutuhan Karbohidrat:\", kebutuhan_gizi[\"karbohidrat_gram\"], \"gram per hari\")\n",
    "print(\"Kebutuhan Protein:\", kebutuhan_gizi[\"protein_gram\"], \"gram per hari\")\n",
    "print(\"Kebutuhan Lemak:\", kebutuhan_gizi[\"lemak_gram\"], \"gram per hari \\n\")\n",
    "print(\"Rekomendasi makanan dan kandungan gizinya:\")\n",
    "\n",
    "for idx in best_combination:\n",
    "    meal = valid_data.iloc[idx]\n",
    "    print(f\"{meal['Nama']} - Kalori: {meal['Kalori']}, Karbohidrat: {meal['Karbohidrat']}, Protein: {meal['Protein']}, Lemak: {meal['Lemak']}, Rating: {meal['Rating']}\")\n",
    "\n",
    "print(\"\\nTotal Kalori dari makanan yang direkomendasikan:\", kalori_basal)\n",
    "print(\"Total Karbohidrat dari makanan yang direkomendasikan:\", total_karbohidrat)\n",
    "print(\"Total Protein dari makanan yang direkomendasikan:\", total_protein)\n",
    "print(\"Total Lemak dari makanan yang direkomendasikan:\", total_lemak)\n"
   ],
   "outputs": [
    {
     "name": "stdout",
     "output_type": "stream",
     "text": [
      "Total Kalori: 2565.0 kalori per hari\n",
      "Kebutuhan Karbohidrat: 320.625 gram per hari\n",
      "Kebutuhan Protein: 128.25 gram per hari\n",
      "Kebutuhan Lemak: 71.25 gram per hari \n",
      "\n",
      "Rekomendasi makanan dan kandungan gizinya:\n",
      "Jambu Bol - Kalori: 112.0, Karbohidrat: 28.4, Protein: 1.2, Lemak: 0.6, Rating: 4.38\n",
      "Bubur - Kalori: 120.0, Karbohidrat: 26.0, Protein: 2.0, Lemak: 120.0, Rating: 4.02\n",
      "Mi basah - Kalori: 176.0, Karbohidrat: 28.0, Protein: 1.2, Lemak: 6.6, Rating: 4.7\n",
      "\n",
      "Total Kalori dari makanan yang direkomendasikan: 2496.0\n",
      "Total Karbohidrat dari makanan yang direkomendasikan: 255.8\n",
      "Total Protein dari makanan yang direkomendasikan: 106.19999999999999\n",
      "Total Lemak dari makanan yang direkomendasikan: 116.0\n"
     ]
    }
   ],
   "execution_count": 7
  },
  {
   "metadata": {
    "ExecuteTime": {
     "end_time": "2024-06-08T14:16:07.791685Z",
     "start_time": "2024-06-08T14:16:07.789214Z"
    }
   },
   "cell_type": "code",
   "source": "",
   "outputs": [],
   "execution_count": 7
  },
  {
   "metadata": {},
   "cell_type": "code",
   "outputs": [],
   "execution_count": null,
   "source": ""
  }
 ],
 "metadata": {
  "kernelspec": {
   "display_name": "pds",
   "language": "python",
   "name": "python3"
  },
  "language_info": {
   "codemirror_mode": {
    "name": "ipython",
    "version": 3
   },
   "file_extension": ".py",
   "mimetype": "text/x-python",
   "name": "python",
   "nbconvert_exporter": "python",
   "pygments_lexer": "ipython3",
   "version": "3.9.16"
  }
 },
 "nbformat": 4,
 "nbformat_minor": 2
}
